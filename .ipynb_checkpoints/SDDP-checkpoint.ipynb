{
 "cells": [
  {
   "cell_type": "markdown",
   "metadata": {},
   "source": [
    "## Algorithme SDDP"
   ]
  },
  {
   "cell_type": "code",
   "execution_count": 1,
   "metadata": {},
   "outputs": [],
   "source": [
    "using Distributions\n",
    "using Clp\n",
    "using JuMP\n",
    "using PyPlot"
   ]
  },
  {
   "cell_type": "markdown",
   "metadata": {},
   "source": [
    "## Problème considéré\n",
    "\n",
    "Un restaurateur doit acheter en début de journée des kilos de poissons pour satisfaire la demande de ses clients. Il doit absolument satisfaire toutes les commandes de poissons qui seront effectués au cours d'un service.\n",
    "\n",
    "Il peut acheter jusqu'à un maximum de 20 kilos de poisson à un prix uniformément distribué entre 15 et 20 dollars le kilo avant son service. S'il manque de poisson au cours d'un service, il peut s'en procurer d'urgence en quantité illimitée chez un commerçant pour un prix plus élevé variant entre 30 et 40 dollars le kilo. \n",
    "\n",
    "Si le restaurateur n'a pas vendu son poisson au cours d'une soirée, il pourra le revendre à un prix moins élevé le lendemain puisqu'il sera moins frais. Il essuiera ainsi une perte de 5$ par kilo.\n",
    "\n",
    "Les soirées occupées de ce restaurateur sont le jeudi, vendredi, samedi et dimanche. Il cherche quelle décision optimale prendre le jeudi pour minimiser ses coûts au cours de cette période de 4 jours. \n",
    "\n",
    "Il sait que le jeudi il écoule habituellement 10 kilos de poissons. Pour les autres soirs, la demande est plus variable et suit une loi uniforme entre 10 et 30 kilos.\n"
   ]
  },
  {
   "cell_type": "markdown",
   "metadata": {},
   "source": [
    "Dans la formulation du problème qui suit on définit:\n",
    "\n",
    "- x1: Nombre de kilos acheter à prix moindre avant un service \n",
    "- x2: Nombre de kilos supplémentaires achetés au courant du service\n",
    "- x3: Quantité de poissons qui sera non écoulée.\n",
    "- x4: Variable d'écart associée à la contrainte sur la limite de quantité b2\n",
    "- y1,y2,y3,y4: Idem aux variables x1,x2,x3 et x4, mais pour l'étape précédente.\n",
    "- b1: Demande de kilos de poisson pour un soir donné.\n",
    "- b2: Limite de kilos de poisson disponible avant un service à prix moindre.\n",
    "\n"
   ]
  },
  {
   "cell_type": "code",
   "execution_count": 2,
   "metadata": {},
   "outputs": [
    {
     "data": {
      "text/plain": [
       "2×4 Array{Int64,2}:\n",
       " 1  1  -1  0\n",
       " 1  0   0  1"
      ]
     },
     "execution_count": 2,
     "metadata": {},
     "output_type": "execute_result"
    }
   ],
   "source": [
    "#Distributions des couts\n",
    "dist_cout1=Uniform(15,20)\n",
    "dist_cout2=Uniform(30,40)\n",
    "perte=5\n",
    "\n",
    "#Distributions des demandes\n",
    "dist_demand=Uniform(10,30)\n",
    "first_demand=10\n",
    "\n",
    "#Limite du premier fournisseur de poisson\n",
    "buy_limit=20\n",
    "\n",
    "#Taille de l'échantillon\n",
    "N=1000\n",
    "#Taille des subsamples pour le forward pass\n",
    "M=30\n",
    "\n",
    "#Horizon de 4 jours\n",
    "T=4\n",
    "\n",
    "#Matrices des problèmes d'étapes qui seront non aléatoires dans ce cas-ci\n",
    "#donc communes à chaque problème\n",
    "T_matrix=[0 0 1 0;\n",
    "          0 0 0 0]\n",
    "W_matrix=[1 1 -1 0;\n",
    "          1 0 0 1]\n"
   ]
  },
  {
   "cell_type": "markdown",
   "metadata": {},
   "source": [
    "\n"
   ]
  },
  {
   "cell_type": "markdown",
   "metadata": {},
   "source": [
    "Voici une fonction qui servira de \"conteneur\" pour un problème généré aléatoirement à une étape donnée."
   ]
  },
  {
   "cell_type": "code",
   "execution_count": 3,
   "metadata": {},
   "outputs": [
    {
     "data": {
      "text/plain": [
       "construct_b (generic function with 1 method)"
      ]
     },
     "execution_count": 3,
     "metadata": {},
     "output_type": "execute_result"
    }
   ],
   "source": [
    "function StageModel(;demand=nothing)\n",
    "    \n",
    "    #Génération de la demande aléatoire si celle-ci l'est\n",
    "    b=construct_b(demand)\n",
    "    \n",
    "    #Génération des couts aléatoires\n",
    "    costs=rand(2)\n",
    "    costs=[quantile(dist_cout1,costs[1]);\n",
    "        quantile(dist_cout2,costs[2]);\n",
    "        perte;\n",
    "        0]\n",
    "    \n",
    "    m = Model(solver = ClpSolver())\n",
    "    \n",
    "    x_var=@variable(m,x[1:4]>=0)\n",
    "    y_var=@variable(m,y[1:4]>=0)\n",
    "    alph_var=@variable(m,α>=0)\n",
    "    \n",
    "    constr1=@constraint(m,T_matrix*y+W_matrix*x.==b)\n",
    "    alpha_constr=[]#contiendra les coupes pour la fonction de recours\n",
    "    obj=@objective(m,Min,costs[1]*x[1]+costs[2]*x[2]+costs[3]*x[3]+α)\n",
    "\n",
    "    getModel() = m\n",
    "    addCut(Q,g,x_bar) = push!(alpha_constr,@constraint(m,α-g'x>=Q-g'x_bar))\n",
    "    setPrevious(new) = JuMP.fix(y[3], new[3])#kilos de poissons restant de l'etape precedente\n",
    "    solveModel() = solve(m)\n",
    "    get_x() = getvalue(x)\n",
    "    get_b() = b\n",
    "    get_obj() = getobjectivevalue(m)\n",
    "    get_duals() =  getdual(constr1)\n",
    "    get_alpha() = getvalue(α)\n",
    "    get_costs() = costs\n",
    "    ()->(getModel;addCut;setPrevious;solveModel;get_x;get_b;get_obj;get_duals;get_alpha;get_costs)\n",
    "    \n",
    "    end\n",
    "\n",
    "#Permet de générer la demande aléatoire ou de la fixé si c'est pour\n",
    "#la première étape.\n",
    "function construct_b(demand)\n",
    "    if demand==nothing\n",
    "        b=[quantile(dist_demand,rand());\n",
    "            buy_limit]\n",
    "    else\n",
    "        b=[demand;\n",
    "            buy_limit]\n",
    "    end\n",
    "    return b\n",
    "end"
   ]
  },
  {
   "cell_type": "code",
   "execution_count": 4,
   "metadata": {},
   "outputs": [
    {
     "data": {
      "text/latex": [
       "$$ \\begin{alignat*}{1}\\min\\quad & 19.698409449946624 x_{1} + 30.472260314498957 x_{2} + 5 x_{3} + α\\\\\n",
       "\\text{Subject to} \\quad & y_{3} + x_{1} + x_{2} - x_{3} = 17.88897310999609\\\\\n",
       " & x_{1} + x_{4} = 20\\\\\n",
       " & x_{i} \\geq 0 \\quad\\forall i \\in \\{1,2,3,4\\}\\\\\n",
       " & y_{1} \\geq 0\\\\\n",
       " & y_{2} \\geq 0\\\\\n",
       " & y_{3} = 0\\\\\n",
       " & y_{4} \\geq 0\\\\\n",
       " & α \\geq 0\\\\\n",
       "\\end{alignat*}\n",
       " $$"
      ],
      "text/plain": [
       "Minimization problem with:\n",
       " * 2 linear constraints\n",
       " * 9 variables\n",
       "Solver is ClpMathProg"
      ]
     },
     "execution_count": 4,
     "metadata": {},
     "output_type": "execute_result"
    }
   ],
   "source": [
    "#Test des fonctionnalités de la fonction précédemment définie\n",
    "test=StageModel()\n",
    "test.setPrevious([0;0;0;0])\n",
    "test.getModel()"
   ]
  },
  {
   "cell_type": "markdown",
   "metadata": {},
   "source": [
    "# Forward pass\n",
    "\n",
    "La fonction forward pass traverse pour chaque étape les M scénarios du sous-ensemble tiré et résout récursivement chaque étape."
   ]
  },
  {
   "cell_type": "code",
   "execution_count": 5,
   "metadata": {},
   "outputs": [
    {
     "data": {
      "text/plain": [
       "forward (generic function with 1 method)"
      ]
     },
     "execution_count": 5,
     "metadata": {},
     "output_type": "execute_result"
    }
   ],
   "source": [
    "function forward(models_sub)\n",
    "\n",
    "    for t in 1:T\n",
    "       for i in 1:M\n",
    "             models_sub[t][i].solveModel()\n",
    "             y=models_sub[t][i].get_x()\n",
    "            if t<T\n",
    "             #Assigne la valeur de la solution de l'etape précédente comme variable a t+1 si \n",
    "             #ce n'est pas la derniere étape\n",
    "             models_sub[t+1][i].setPrevious(y)\n",
    "            end\n",
    "       end\n",
    "    end\n",
    "    \n",
    "    return models_sub\n",
    "    \n",
    "end "
   ]
  },
  {
   "cell_type": "markdown",
   "metadata": {},
   "source": [
    "## Calcul des bornes\n",
    "\n",
    "Le calcul de la borne supérieur se fait en utilisant une approximation normale avec niveau de confiance de 0.5%.\n",
    "\n",
    "La borne inférieur est simplement la solution du problème de première étape à chaque itération."
   ]
  },
  {
   "cell_type": "code",
   "execution_count": 18,
   "metadata": {},
   "outputs": [
    {
     "data": {
      "text/plain": [
       "compute_bounds (generic function with 1 method)"
      ]
     },
     "execution_count": 18,
     "metadata": {},
     "output_type": "execute_result"
    }
   ],
   "source": [
    "function compute_bounds(models_sub)\n",
    "    \n",
    "    #Borne superieur\n",
    "    ν=[]\n",
    "    for j in 1:M\n",
    "        ν_j=sum(models_sub[t][j].get_costs()'*models_sub[t][j].get_x() for t in 1:T)\n",
    "        push!(ν,ν_j)\n",
    "    end\n",
    "    \n",
    "    mu=mean(ν)\n",
    "    stdev=sqrt((1/(length(ν)-1))*sum((ν[j]-mu)^2 for j in 1:M))\n",
    "    \n",
    "    alpha=0.01\n",
    "    distrib=Normal()\n",
    "    z=quantile(distrib,1-alpha/2)\n",
    "    \n",
    "    upper_bound=mu+z*stdev/sqrt(M)\n",
    "    \n",
    "    #Borne inferieur\n",
    "    lower_bound=(1/M)*sum(models_sub[1][j].get_obj() for j in 1:M)\n",
    "   \n",
    "    \n",
    "    return lower_bound, upper_bound\n",
    "    \n",
    "end"
   ]
  },
  {
   "cell_type": "markdown",
   "metadata": {},
   "source": [
    "## Backward pass\n",
    "\n",
    "La fonction backward utilise les solutions d'essais obtenus à partir du sous-échantillon de taille M pour créer des coupes et borner inférieurement les recours à chaque étape.\n",
    "\n",
    "Les coupes pour une décision i parmis les M du sous-ensemble sont ajoutées au N problèmes échantillonés initiaux."
   ]
  },
  {
   "cell_type": "code",
   "execution_count": 19,
   "metadata": {},
   "outputs": [
    {
     "data": {
      "text/plain": [
       "backward (generic function with 1 method)"
      ]
     },
     "execution_count": 19,
     "metadata": {},
     "output_type": "execute_result"
    }
   ],
   "source": [
    "\n",
    "function backward(models,models_sub)\n",
    "    for t in T:-1:2\n",
    "        \n",
    "        for i in 1:M\n",
    "            Q=0\n",
    "            g=0\n",
    "            \n",
    "            for j in 1:N\n",
    "                #Calcul des coupes pour les N problèmes pour une solution du forward pass\n",
    "                \n",
    "                m=models[t][j]\n",
    "                \n",
    "                y=models_sub[t-1][i].get_x()\n",
    "                m.setPrevious(y)\n",
    "                \n",
    "                m.solveModel()\n",
    "                \n",
    "                Q=Q+(1/N)*m.get_obj()\n",
    "                \n",
    "                pi=m.get_duals()\n",
    "                \n",
    "                g=g-(1/N)*T_matrix'*pi  \n",
    "            end\n",
    "            \n",
    "            \n",
    "            for j in 1:N\n",
    "                m=models[t-1][j]\n",
    "                #Ajout de coupe au model\n",
    "                m.addCut(Q,g,models_sub[t-1][i].get_x()) \n",
    "            end\n",
    "        end\n",
    "\n",
    "    end\n",
    "    \n",
    "    return models, models_sub\n",
    "    \n",
    "end\n",
    "\n",
    "    "
   ]
  },
  {
   "cell_type": "markdown",
   "metadata": {},
   "source": [
    "## L'algorithme\n",
    "\n",
    "Finalement, on peut répéter le cycle forward, calcul des bornes et backward jusqu'à ce que la borne sup et la borne inf aient un écart inférieur à un niveau epsilon fixé. \n"
   ]
  },
  {
   "cell_type": "code",
   "execution_count": 20,
   "metadata": {},
   "outputs": [
    {
     "data": {
      "text/plain": [
       "SDDP_algo (generic function with 1 method)"
      ]
     },
     "execution_count": 20,
     "metadata": {},
     "output_type": "execute_result"
    }
   ],
   "source": [
    "function SDDP_algo(models)\n",
    "    \n",
    "    #K=10\n",
    "    ub_history=[]\n",
    "    lb_history=[]\n",
    "    \n",
    "    ε=100\n",
    "    bounds=[-Inf,Inf]\n",
    "    while (bounds[2]-bounds[1])>ε\n",
    "    \n",
    "    #for k in 1:K\n",
    "        \n",
    "        subsample=rand(1:N,M)\n",
    "        models_sub=[]\n",
    "\n",
    "        for t in 1:T\n",
    "            scenarios_sub=models[t][subsample]\n",
    "            push!(models_sub,scenarios_sub)\n",
    "        end \n",
    "\n",
    "\n",
    "        models_sub=forward(models_sub)\n",
    "\n",
    "        bounds=compute_bounds(models_sub)\n",
    "\n",
    "        println(\"Les bornes sont:\")\n",
    "        println(bounds)\n",
    "        push!(ub_history,bounds[2])\n",
    "        push!(lb_history,bounds[1])\n",
    "\n",
    "\n",
    "        models, models_sub=backward(models,models_sub)\n",
    "    end\n",
    "        \n",
    "    \n",
    "    return models, [ub_history lb_history]\n",
    "        \n",
    "end"
   ]
  },
  {
   "cell_type": "markdown",
   "metadata": {},
   "source": [
    "La fonction ci-dessous permet de générer N fois T modèles aléatoires initiaux, soit N modèles pour chacune des T étapes."
   ]
  },
  {
   "cell_type": "code",
   "execution_count": 21,
   "metadata": {},
   "outputs": [
    {
     "data": {
      "text/plain": [
       "generate_models (generic function with 1 method)"
      ]
     },
     "execution_count": 21,
     "metadata": {},
     "output_type": "execute_result"
    }
   ],
   "source": [
    "    \n",
    "function generate_models()\n",
    "    models=[]\n",
    "    for t in 1:T\n",
    "        scenarios=[]\n",
    "        for i in 1:N\n",
    "            if t!=1\n",
    "                push!(scenarios,StageModel())\n",
    "            else\n",
    "                #Si on est le jeudi, la demande est stable a 10 kilos\n",
    "                m=StageModel(demand=first_demand)\n",
    "                #Aussi, il n'y a pas de surplus de la veille pour commencer\n",
    "                m.setPrevious([0;0;0;0])\n",
    "                push!(scenarios,m)\n",
    "            end\n",
    "        end\n",
    "        push!(models,scenarios)\n",
    "    end  \n",
    "    return models\n",
    "end\n"
   ]
  },
  {
   "cell_type": "markdown",
   "metadata": {},
   "source": [
    "## Résultats\n",
    "\n",
    "Finalement, on génère les modèles aléatoirement, roule l'algorithme et on extrait l'évolution des bornes et les modèles finaux."
   ]
  },
  {
   "cell_type": "code",
   "execution_count": null,
   "metadata": {},
   "outputs": [
    {
     "name": "stdout",
     "output_type": "stream",
     "text": [
      "Les bornes sont:\n",
      "(176.6983865255433, 1404.3070896066167)\n",
      "Les bornes sont:\n",
      "(1261.5422402183879, 1461.1779191649362)\n",
      "Les bornes sont:\n",
      "(1316.0662123162278, 1466.2648848295185)\n",
      "Les bornes sont:"
     ]
    }
   ],
   "source": [
    "models=generate_models()\n",
    "models, hist = SDDP_algo(models)"
   ]
  },
  {
   "cell_type": "markdown",
   "metadata": {},
   "source": [
    "Voici l'évolution des bornes au fil des itérations."
   ]
  },
  {
   "cell_type": "code",
   "execution_count": null,
   "metadata": {},
   "outputs": [],
   "source": [
    "plot(hist)\n",
    "legend([\"upper bound\",\"lower bound\"])\n",
    "title(\"Cost at each iteration of SDDP algorithm\")\n",
    "ylabel(\"Cost\")\n",
    "xlabel(\"Iterations\")"
   ]
  }
 ],
 "metadata": {
  "kernelspec": {
   "display_name": "Julia 0.6.2",
   "language": "julia",
   "name": "julia-0.6"
  },
  "language_info": {
   "file_extension": ".jl",
   "mimetype": "application/julia",
   "name": "julia",
   "version": "0.6.2"
  }
 },
 "nbformat": 4,
 "nbformat_minor": 2
}
